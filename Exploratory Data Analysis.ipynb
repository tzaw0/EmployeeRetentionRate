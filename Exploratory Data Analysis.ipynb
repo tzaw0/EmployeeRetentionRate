{
 "cells": [
  {
   "cell_type": "markdown",
   "id": "d5b9f6f3",
   "metadata": {},
   "source": [
    "### Table of Contents\n",
    "\n",
    "* [Data Cleaning](#Data-Cleaning)\n",
    "* [Data Exploration](#Data-Exploration)\n",
    "* [Retention Rate Over Time](#Retention-Rate-Over-Time)\n",
    "* [Duration Analysis](#Duration-Analysis)"
   ]
  },
  {
   "cell_type": "code",
   "execution_count": 1,
   "id": "a539600c",
   "metadata": {},
   "outputs": [],
   "source": [
    "#Import libraries\n",
    "import pandas as pd\n",
    "from pandas.tseries.offsets import DateOffset\n",
    "import matplotlib.pyplot as plt\n",
    "\n",
    "pd.set_option('display.max_columns', None)\n",
    "#Read in the data\n",
    "df = pd.read_csv('data/2021_12_07.csv', parse_dates = ['start_date', 'end_date'], dtype={'work_postal':'str'})"
   ]
  },
  {
   "cell_type": "markdown",
   "id": "5cf2ebc0",
   "metadata": {},
   "source": [
    "# Data Cleaning"
   ]
  },
  {
   "cell_type": "code",
   "execution_count": 2,
   "id": "f351be4c",
   "metadata": {},
   "outputs": [],
   "source": [
    "#Replace under_29 by .under_29 to make it easier when sorting\n",
    "df['age_group'] = df['age_group'].replace(to_replace='under_29', value='.under_29')\n",
    "\n",
    "#Replace under_1 by .under_1 to make it easier when sorting\n",
    "df['tenure_group_by_department'] = df['tenure_group_by_department'].replace(to_replace='under_1', value='.under_1')\n",
    "\n",
    "#Condense the records into one row and return the dataframe\n",
    "#  ids: list of employee ids to condense\n",
    "def construct_df(ids):\n",
    "    #Define Voluntary Termination Reasons\n",
    "    vol_ter = ['Resignation', 'Employee Never reported toWork', 'Job Abandonment']\n",
    "    #Temporary end date\n",
    "    temp_end_date = pd.to_datetime('2021-12-07')\n",
    "    \n",
    "    duration = []                #total duration of employment in days\n",
    "    tenure_group = []            #duration in categories\n",
    "    division = []                #last division employed at\n",
    "    comprate = []                #highest comprate during employment\n",
    "    num_of_pay_raise = []        #number of pay raises the employee got\n",
    "    sex = []                     #gender\n",
    "    ethnicity = []               #ethnicity\n",
    "    mar_status = []              #marital status\n",
    "    highest_educ_lvl = []        #highest education level\n",
    "    end_age_group = []           #end age group\n",
    "    start_age_group = []         #start age group\n",
    "    classification = []          #last classification\n",
    "    department_change = []       #number of department changes\n",
    "    division_change = []         #number of division changes\n",
    "    pay_increase_ot = []         #(max comprate - min comprate) / duration\n",
    "    last_jobtitle_duration = []  #duration of last held jobtitle in days\n",
    "    event = []                   #Unknown, Retirement, Termination\n",
    "    \n",
    "    #Condense each employee\n",
    "    for ID in ids:\n",
    "        #Get all records of the employee\n",
    "        employee = df[df['emplid_sec'] == ID].copy()\n",
    "\n",
    "        ##### DURATION #####\n",
    "        #number of days worked as of 2021-12-07 (Includes end date)\n",
    "        duration.append(int(sum(employee['duration'].tolist(), employee.shape[0])))\n",
    "        \n",
    "        ##### DURATION GROUP #####\n",
    "        #Tenure group by department\n",
    "        tenure_group.append(sorted(employee['tenure_group_by_department'].unique().tolist())[-1])\n",
    "\n",
    "        ##### DIVISION #####\n",
    "        #Get the last division they were in\n",
    "        employee.sort_values(by=['end_date'], inplace=True)\n",
    "        division.append(employee.iloc[-1]['division'])\n",
    "\n",
    "        ##### COMP RATE #####\n",
    "        #Get their highest comprate\n",
    "        comprate.append(max(employee['comprate'].tolist()))\n",
    "\n",
    "        ##### NUMBER OF PAY RAISES #####\n",
    "        #Get the number of pay raises the employee had during the employement\n",
    "        num_of_pay_raise.append(employee['comprate'].unique().size)\n",
    "        \n",
    "        ##### SEX #####\n",
    "        employee.sort_values(by=['end_date'], inplace=True)\n",
    "        sex.append(employee.iloc[-1]['sex'])\n",
    "        \n",
    "        ##### ETHNITICY #####\n",
    "        employee.sort_values(by=['end_date'], inplace=True)\n",
    "        ethnicity.append(employee.iloc[-1]['ethnicity'])\n",
    "        \n",
    "        ##### MARITAL STATUS #####\n",
    "        #Get the last marital status\n",
    "        employee.sort_values(by=['end_date'], inplace=True)\n",
    "        mar_status.append(employee.iloc[-1]['mar_status'])\n",
    "\n",
    "        ##### EDUCATION LEVEL #####\n",
    "        #Get the highest education level\n",
    "        highest_educ_lvl.append(sorted(employee['highest_educ_lvl'].tolist())[-1])\n",
    "\n",
    "        ##### END AGE GROUP #####\n",
    "        #Get the age group they were before they left\n",
    "        end_age_group.append(sorted(employee['age_group'].unique().tolist())[-1])\n",
    "        \n",
    "        ##### START AGE GROUP #####\n",
    "        #Get the age group when they first started\n",
    "        start_age_group.append(sorted(employee['age_group'].unique().tolist())[0])\n",
    "        \n",
    "        ##### CLASSIFICATION #####\n",
    "        #Get the last classification\n",
    "        employee.sort_values(by=['end_date'], inplace=True)\n",
    "        classification.append(employee.iloc[-1]['classification'])\n",
    "        \n",
    "        ##### DEPARTMENT CHANGE #####\n",
    "        #Get the number of department changes during the employement\n",
    "        department_change.append(max(0, employee['deptartment_joiners'].sum() - 1))\n",
    "        \n",
    "        ##### DIVISION CHANGE #####\n",
    "        #Get the number of division changes during the employement\n",
    "        division_change.append(max(0, employee['division_joiners'].sum() - 1))\n",
    "\n",
    "        ##### COMPRATE INCREASE OVER TIME #####\n",
    "        #(max - min) / duration\n",
    "        max_rate = max(employee['comprate'].tolist())\n",
    "        min_rate = min(employee['comprate'].tolist())\n",
    "        pay_increase_ot.append((max_rate - min_rate) / duration[-1])\n",
    "\n",
    "        ##### DURATION OF CURRENT POSITION #####\n",
    "        #Get the duration in days of the last jobtitle they held or currently holding\n",
    "        employee.sort_values(by=['end_date'], inplace=True)\n",
    "        last_jobtitle = employee.iloc[-1]['jobtitle']\n",
    "        last_jobtitle_duration.append(employee.iloc[-1]['duration'] + 1)\n",
    "        for i in reversed(range(len(employee) - 1)):\n",
    "            if(employee.iloc[i]['jobtitle'] == last_jobtitle):\n",
    "                last_jobtitle_duration[-1] += employee.iloc[i]['duration'] + 1\n",
    "            else:\n",
    "                break\n",
    "\n",
    "        ##### EVENT #####\n",
    "        employee.sort_values(by=['end_date'], inplace=True)\n",
    "        temp_employee = employee[employee['event'] != 'unknown'].copy()\n",
    "        if(temp_employee.shape[0] == 0):\n",
    "            event.append('unknown')\n",
    "        elif(temp_employee.iloc[-1]['event'] == 'Termination'):\n",
    "            if(temp_employee.iloc[-1]['event_reason'] in vol_ter):\n",
    "                event.append('V Termination')\n",
    "            else:\n",
    "                event.append('IV Termination')\n",
    "        else:\n",
    "            event.append('Retirement')\n",
    "\n",
    "\n",
    "    #Construct Dataframe\n",
    "    return pd.DataFrame({'duration': duration,\n",
    "                         'tenure_group': tenure_group,\n",
    "                         'division': division,\n",
    "                         'comprate': comprate,\n",
    "                         'num_of_pay_raise': num_of_pay_raise,\n",
    "                         'sex': sex,\n",
    "                         'ethnicity': ethnicity,\n",
    "                         'mar_status': mar_status,\n",
    "                         'highest_educ_lvl': highest_educ_lvl,\n",
    "                         'end_age_group': end_age_group,\n",
    "                         'start_age_group': start_age_group,\n",
    "                         'classification': classification,\n",
    "                         'department_change': department_change,\n",
    "                         'division_change': division_change,\n",
    "                         'pay_increase_ot': pay_increase_ot,\n",
    "                         'last_jobtitle_duration': last_jobtitle_duration,\n",
    "                         'emplid_sec': ids,\n",
    "                         'event': event})"
   ]
  },
  {
   "cell_type": "code",
   "execution_count": 3,
   "id": "b2cf0745",
   "metadata": {},
   "outputs": [],
   "source": [
    "#Current employees (currently working)\n",
    "temp_df = df[df['end_date'].isna()]\n",
    "curr_empl_ids = temp_df['emplid_sec'].unique()\n",
    "\n",
    "#Past employees (currently not working)\n",
    "all_empl_ids = df['emplid_sec'].unique()\n",
    "past_empl_ids = [i for i in all_empl_ids if i not in curr_empl_ids]\n",
    "\n",
    "#Past employees\n",
    "past_empl_df = construct_df(past_empl_ids)\n",
    "\n",
    "#Current employees\n",
    "curr_empl_df = construct_df(curr_empl_ids)\n",
    "\n",
    "#All employees\n",
    "all_empl_df = pd.concat([past_empl_df, curr_empl_df])"
   ]
  },
  {
   "cell_type": "code",
   "execution_count": 4,
   "id": "d454b0b4",
   "metadata": {},
   "outputs": [],
   "source": [
    "#Export the new datasets\n",
    "past_empl_df.to_csv('data/past.csv', index=False)\n",
    "curr_empl_df.to_csv('data/current.csv', index=False)\n",
    "all_empl_df.to_csv('data/all.csv', index=False)"
   ]
  },
  {
   "cell_type": "code",
   "execution_count": 5,
   "id": "46e19037",
   "metadata": {},
   "outputs": [],
   "source": [
    "#Read in cleaned data\n",
    "past_empl_df = pd.read_csv('data/past.csv')\n",
    "curr_empl_df = pd.read_csv('data/current.csv')\n",
    "all_empl_df = pd.read_csv('data/all.csv')"
   ]
  },
  {
   "cell_type": "markdown",
   "id": "90c68ed1",
   "metadata": {},
   "source": [
    "# Data Exploration"
   ]
  },
  {
   "cell_type": "code",
   "execution_count": 6,
   "id": "bd67c335",
   "metadata": {},
   "outputs": [
    {
     "data": {
      "text/plain": [
       "(11859, 18)"
      ]
     },
     "execution_count": 6,
     "metadata": {},
     "output_type": "execute_result"
    }
   ],
   "source": [
    "all_empl_df.shape"
   ]
  },
  {
   "cell_type": "code",
   "execution_count": 7,
   "id": "9081e533",
   "metadata": {},
   "outputs": [
    {
     "data": {
      "text/plain": [
       "duration                     0\n",
       "tenure_group                 0\n",
       "division                     0\n",
       "comprate                     0\n",
       "num_of_pay_raise             0\n",
       "sex                       1485\n",
       "ethnicity                  577\n",
       "mar_status                1485\n",
       "highest_educ_lvl          1485\n",
       "end_age_group             1486\n",
       "start_age_group           1486\n",
       "classification               0\n",
       "department_change            0\n",
       "division_change              0\n",
       "pay_increase_ot              0\n",
       "last_jobtitle_duration       0\n",
       "emplid_sec                   0\n",
       "event                        0\n",
       "dtype: int64"
      ]
     },
     "execution_count": 7,
     "metadata": {},
     "output_type": "execute_result"
    }
   ],
   "source": [
    "all_empl_df.isna().sum()"
   ]
  },
  {
   "cell_type": "markdown",
   "id": "cff47c6b",
   "metadata": {},
   "source": [
    "There are some missing values for columns `sex`, `ethnicity`, `mar_status`, `highest_educ_lvl`, `end_age_group`, and `start_age_group`."
   ]
  },
  {
   "cell_type": "code",
   "execution_count": 8,
   "id": "0bc3b885",
   "metadata": {},
   "outputs": [
    {
     "data": {
      "text/html": [
       "<div>\n",
       "<style scoped>\n",
       "    .dataframe tbody tr th:only-of-type {\n",
       "        vertical-align: middle;\n",
       "    }\n",
       "\n",
       "    .dataframe tbody tr th {\n",
       "        vertical-align: top;\n",
       "    }\n",
       "\n",
       "    .dataframe thead th {\n",
       "        text-align: right;\n",
       "    }\n",
       "</style>\n",
       "<table border=\"1\" class=\"dataframe\">\n",
       "  <thead>\n",
       "    <tr style=\"text-align: right;\">\n",
       "      <th></th>\n",
       "      <th>duration</th>\n",
       "      <th>comprate</th>\n",
       "      <th>num_of_pay_raise</th>\n",
       "      <th>department_change</th>\n",
       "      <th>division_change</th>\n",
       "      <th>pay_increase_ot</th>\n",
       "      <th>last_jobtitle_duration</th>\n",
       "    </tr>\n",
       "  </thead>\n",
       "  <tbody>\n",
       "    <tr>\n",
       "      <th>count</th>\n",
       "      <td>11859.000000</td>\n",
       "      <td>11859.000000</td>\n",
       "      <td>11859.000000</td>\n",
       "      <td>11859.000000</td>\n",
       "      <td>11859.000000</td>\n",
       "      <td>11859.000000</td>\n",
       "      <td>11859.000000</td>\n",
       "    </tr>\n",
       "    <tr>\n",
       "      <th>mean</th>\n",
       "      <td>2688.048739</td>\n",
       "      <td>25.103131</td>\n",
       "      <td>5.145206</td>\n",
       "      <td>0.512101</td>\n",
       "      <td>0.770807</td>\n",
       "      <td>0.003742</td>\n",
       "      <td>1390.214624</td>\n",
       "    </tr>\n",
       "    <tr>\n",
       "      <th>std</th>\n",
       "      <td>2360.091080</td>\n",
       "      <td>10.306857</td>\n",
       "      <td>3.680048</td>\n",
       "      <td>0.730340</td>\n",
       "      <td>1.042973</td>\n",
       "      <td>0.006118</td>\n",
       "      <td>1662.092807</td>\n",
       "    </tr>\n",
       "    <tr>\n",
       "      <th>min</th>\n",
       "      <td>1.000000</td>\n",
       "      <td>0.000000</td>\n",
       "      <td>1.000000</td>\n",
       "      <td>0.000000</td>\n",
       "      <td>0.000000</td>\n",
       "      <td>0.000000</td>\n",
       "      <td>1.000000</td>\n",
       "    </tr>\n",
       "    <tr>\n",
       "      <th>25%</th>\n",
       "      <td>594.000000</td>\n",
       "      <td>17.185974</td>\n",
       "      <td>2.000000</td>\n",
       "      <td>0.000000</td>\n",
       "      <td>0.000000</td>\n",
       "      <td>0.001448</td>\n",
       "      <td>244.365498</td>\n",
       "    </tr>\n",
       "    <tr>\n",
       "      <th>50%</th>\n",
       "      <td>2111.000000</td>\n",
       "      <td>23.736800</td>\n",
       "      <td>4.000000</td>\n",
       "      <td>0.000000</td>\n",
       "      <td>0.000000</td>\n",
       "      <td>0.002895</td>\n",
       "      <td>693.000000</td>\n",
       "    </tr>\n",
       "    <tr>\n",
       "      <th>75%</th>\n",
       "      <td>4228.000000</td>\n",
       "      <td>30.182622</td>\n",
       "      <td>8.000000</td>\n",
       "      <td>1.000000</td>\n",
       "      <td>1.000000</td>\n",
       "      <td>0.004329</td>\n",
       "      <td>2008.365498</td>\n",
       "    </tr>\n",
       "    <tr>\n",
       "      <th>max</th>\n",
       "      <td>8570.000000</td>\n",
       "      <td>141.166400</td>\n",
       "      <td>25.000000</td>\n",
       "      <td>6.000000</td>\n",
       "      <td>10.000000</td>\n",
       "      <td>0.220725</td>\n",
       "      <td>8567.365498</td>\n",
       "    </tr>\n",
       "  </tbody>\n",
       "</table>\n",
       "</div>"
      ],
      "text/plain": [
       "           duration      comprate  num_of_pay_raise  department_change  \\\n",
       "count  11859.000000  11859.000000      11859.000000       11859.000000   \n",
       "mean    2688.048739     25.103131          5.145206           0.512101   \n",
       "std     2360.091080     10.306857          3.680048           0.730340   \n",
       "min        1.000000      0.000000          1.000000           0.000000   \n",
       "25%      594.000000     17.185974          2.000000           0.000000   \n",
       "50%     2111.000000     23.736800          4.000000           0.000000   \n",
       "75%     4228.000000     30.182622          8.000000           1.000000   \n",
       "max     8570.000000    141.166400         25.000000           6.000000   \n",
       "\n",
       "       division_change  pay_increase_ot  last_jobtitle_duration  \n",
       "count     11859.000000     11859.000000            11859.000000  \n",
       "mean          0.770807         0.003742             1390.214624  \n",
       "std           1.042973         0.006118             1662.092807  \n",
       "min           0.000000         0.000000                1.000000  \n",
       "25%           0.000000         0.001448              244.365498  \n",
       "50%           0.000000         0.002895              693.000000  \n",
       "75%           1.000000         0.004329             2008.365498  \n",
       "max          10.000000         0.220725             8567.365498  "
      ]
     },
     "execution_count": 8,
     "metadata": {},
     "output_type": "execute_result"
    }
   ],
   "source": [
    "all_empl_df.describe()"
   ]
  },
  {
   "cell_type": "code",
   "execution_count": 9,
   "id": "e48e5f3d",
   "metadata": {},
   "outputs": [
    {
     "data": {
      "text/plain": [
       "over_5      0.510161\n",
       ".under_1    0.197824\n",
       "1_to_2      0.182562\n",
       "3_to_4      0.109453\n",
       "Name: tenure_group, dtype: float64"
      ]
     },
     "execution_count": 9,
     "metadata": {},
     "output_type": "execute_result"
    }
   ],
   "source": [
    "all_empl_df['tenure_group'].value_counts(normalize=True, dropna=False)"
   ]
  },
  {
   "cell_type": "markdown",
   "id": "c73002b7",
   "metadata": {},
   "source": [
    "The majority of the employees in the dataset were employed for more than 5 years."
   ]
  },
  {
   "cell_type": "code",
   "execution_count": 10,
   "id": "81aa0d4d",
   "metadata": {},
   "outputs": [
    {
     "data": {
      "text/plain": [
       "Self Sufficiency           0.408129\n",
       "Children Services          0.262501\n",
       "Other                      0.125980\n",
       "Administrative Services    0.098153\n",
       "Adult Services             0.085420\n",
       "Finance and Forecasting    0.010119\n",
       "Public Authority           0.009697\n",
       "Name: division, dtype: float64"
      ]
     },
     "execution_count": 10,
     "metadata": {},
     "output_type": "execute_result"
    }
   ],
   "source": [
    "all_empl_df['division'].value_counts(normalize=True, dropna=False)"
   ]
  },
  {
   "cell_type": "markdown",
   "id": "0cc92721",
   "metadata": {},
   "source": [
    "Most of the employees in the dataset are in the division `Self Sufficiency` and `Children Services`."
   ]
  },
  {
   "cell_type": "code",
   "execution_count": 11,
   "id": "2f10f4fc",
   "metadata": {},
   "outputs": [
    {
     "data": {
      "text/plain": [
       "F      0.712708\n",
       "M      0.161987\n",
       "NaN    0.125221\n",
       "U      0.000084\n",
       "Name: sex, dtype: float64"
      ]
     },
     "execution_count": 11,
     "metadata": {},
     "output_type": "execute_result"
    }
   ],
   "source": [
    "all_empl_df['sex'].value_counts(normalize=True, dropna=False)"
   ]
  },
  {
   "cell_type": "markdown",
   "id": "2cc272fd",
   "metadata": {},
   "source": [
    "The majority of the employees are female."
   ]
  },
  {
   "cell_type": "code",
   "execution_count": 12,
   "id": "2a6eb2d4",
   "metadata": {},
   "outputs": [
    {
     "data": {
      "text/plain": [
       "HISPA    0.375833\n",
       "WHITE    0.314866\n",
       "BLACK    0.149507\n",
       "NSPEC    0.054220\n",
       "NaN      0.048655\n",
       "ASIAN    0.035416\n",
       "2PLUS    0.007926\n",
       "PACIF    0.007505\n",
       "AMIND    0.006071\n",
       "Name: ethnicity, dtype: float64"
      ]
     },
     "execution_count": 12,
     "metadata": {},
     "output_type": "execute_result"
    }
   ],
   "source": [
    "all_empl_df['ethnicity'].value_counts(normalize=True, dropna=False)"
   ]
  },
  {
   "cell_type": "markdown",
   "id": "97cd31db",
   "metadata": {},
   "source": [
    "Most of the employees in the dataset are `Hispanic`, `White`, and `Black`."
   ]
  },
  {
   "cell_type": "code",
   "execution_count": 13,
   "id": "f4af63a6",
   "metadata": {},
   "outputs": [
    {
     "data": {
      "text/plain": [
       "U      0.604604\n",
       "S      0.256851\n",
       "NaN    0.125221\n",
       "M      0.011299\n",
       "D      0.001855\n",
       "H      0.000084\n",
       "E      0.000084\n",
       "Name: mar_status, dtype: float64"
      ]
     },
     "execution_count": 13,
     "metadata": {},
     "output_type": "execute_result"
    }
   ],
   "source": [
    "all_empl_df['mar_status'].value_counts(normalize=True, dropna=False)"
   ]
  },
  {
   "cell_type": "markdown",
   "id": "730772f5",
   "metadata": {},
   "source": [
    "Looking at marital status, **60%** of data are `unspecified`, **12%** of the data are `missing`, and **26%** of employees indicated `Single`."
   ]
  },
  {
   "cell_type": "code",
   "execution_count": 14,
   "id": "60d24791",
   "metadata": {},
   "outputs": [
    {
     "data": {
      "text/plain": [
       "A      0.740113\n",
       "NaN    0.125221\n",
       "G      0.040813\n",
       "I      0.032886\n",
       "D      0.023442\n",
       "C      0.018130\n",
       "F      0.009950\n",
       "H      0.004301\n",
       "E      0.002867\n",
       "K      0.000843\n",
       "J      0.000675\n",
       "B      0.000590\n",
       "L      0.000169\n",
       "Name: highest_educ_lvl, dtype: float64"
      ]
     },
     "execution_count": 14,
     "metadata": {},
     "output_type": "execute_result"
    }
   ],
   "source": [
    "all_empl_df['highest_educ_lvl'].value_counts(normalize=True, dropna=False)"
   ]
  },
  {
   "cell_type": "markdown",
   "id": "a2aeae51",
   "metadata": {},
   "source": [
    "Looking at education, **74%** of data are `unspecified`, and **12%** of the data are `missing`."
   ]
  },
  {
   "cell_type": "code",
   "execution_count": 15,
   "id": "a3b3abc8",
   "metadata": {},
   "outputs": [
    {
     "data": {
      "text/plain": [
       ".under_29    0.141327\n",
       "30_to_34     0.141327\n",
       "35_to_39     0.130281\n",
       "NaN          0.125306\n",
       "40_to_44     0.108862\n",
       "over_60      0.094865\n",
       "50_to_54     0.092335\n",
       "45_to_49     0.089384\n",
       "55_to_59     0.076313\n",
       "Name: end_age_group, dtype: float64"
      ]
     },
     "execution_count": 15,
     "metadata": {},
     "output_type": "execute_result"
    }
   ],
   "source": [
    "all_empl_df['end_age_group'].value_counts(normalize=True, dropna=False)"
   ]
  },
  {
   "cell_type": "markdown",
   "id": "0ab499de",
   "metadata": {},
   "source": [
    "There's a somewhat even distribution for ending age group."
   ]
  },
  {
   "cell_type": "code",
   "execution_count": 16,
   "id": "2d625938",
   "metadata": {},
   "outputs": [
    {
     "data": {
      "text/plain": [
       ".under_29    0.310987\n",
       "30_to_34     0.152121\n",
       "NaN          0.125306\n",
       "35_to_39     0.117801\n",
       "40_to_44     0.091407\n",
       "45_to_49     0.072687\n",
       "50_to_54     0.063327\n",
       "55_to_59     0.040644\n",
       "over_60      0.025719\n",
       "Name: start_age_group, dtype: float64"
      ]
     },
     "execution_count": 16,
     "metadata": {},
     "output_type": "execute_result"
    }
   ],
   "source": [
    "all_empl_df['start_age_group'].value_counts(normalize=True, dropna=False)"
   ]
  },
  {
   "cell_type": "markdown",
   "id": "357b4f88",
   "metadata": {},
   "source": [
    "Most of the new hires are younger than 40."
   ]
  },
  {
   "cell_type": "code",
   "execution_count": 17,
   "id": "31b1538f",
   "metadata": {},
   "outputs": [
    {
     "data": {
      "text/plain": [
       "Staff         0.885235\n",
       "Supervisor    0.090817\n",
       "Manager       0.018551\n",
       "Executive     0.005397\n",
       "Name: classification, dtype: float64"
      ]
     },
     "execution_count": 17,
     "metadata": {},
     "output_type": "execute_result"
    }
   ],
   "source": [
    "all_empl_df['classification'].value_counts(normalize=True, dropna=False)"
   ]
  },
  {
   "cell_type": "code",
   "execution_count": 18,
   "id": "255633ab",
   "metadata": {},
   "outputs": [
    {
     "data": {
      "text/plain": [
       "0    0.600388\n",
       "1    0.309976\n",
       "2    0.071928\n",
       "3    0.013576\n",
       "4    0.003373\n",
       "5    0.000506\n",
       "6    0.000253\n",
       "Name: department_change, dtype: float64"
      ]
     },
     "execution_count": 18,
     "metadata": {},
     "output_type": "execute_result"
    }
   ],
   "source": [
    "all_empl_df['department_change'].value_counts(normalize=True)"
   ]
  },
  {
   "cell_type": "code",
   "execution_count": 19,
   "id": "ad0e5190",
   "metadata": {},
   "outputs": [
    {
     "data": {
      "text/plain": [
       "0     0.513197\n",
       "1     0.308795\n",
       "2     0.113922\n",
       "3     0.038199\n",
       "4     0.015600\n",
       "5     0.005903\n",
       "6     0.003289\n",
       "7     0.001012\n",
       "10    0.000084\n",
       "Name: division_change, dtype: float64"
      ]
     },
     "execution_count": 19,
     "metadata": {},
     "output_type": "execute_result"
    }
   ],
   "source": [
    "all_empl_df['division_change'].value_counts(normalize=True)"
   ]
  },
  {
   "cell_type": "code",
   "execution_count": 20,
   "id": "81b2c5d3",
   "metadata": {},
   "outputs": [
    {
     "data": {
      "text/plain": [
       "V Termination     0.533705\n",
       "IV Termination    0.239646\n",
       "Retirement        0.226650\n",
       "Name: event, dtype: float64"
      ]
     },
     "execution_count": 20,
     "metadata": {},
     "output_type": "execute_result"
    }
   ],
   "source": [
    "past_empl_df['event'].value_counts(normalize=True, dropna=False)"
   ]
  },
  {
   "cell_type": "markdown",
   "id": "09f0546e",
   "metadata": {},
   "source": [
    "Looking at past employees, **53%** were `voluntary terminated`, **24%** were `involuntary terminated`, and **23%** `retired`."
   ]
  },
  {
   "cell_type": "markdown",
   "id": "8b11d75c",
   "metadata": {},
   "source": [
    "# Retention Rate Over Time"
   ]
  },
  {
   "cell_type": "code",
   "execution_count": 21,
   "id": "6fcd7370",
   "metadata": {},
   "outputs": [],
   "source": [
    "years = pd.date_range('2000-01-01', '2021-01-01', freq='YS')\n",
    "temp_end_date = pd.to_datetime('2022-01-02')"
   ]
  },
  {
   "cell_type": "code",
   "execution_count": 22,
   "id": "9d21f4bd",
   "metadata": {},
   "outputs": [
    {
     "data": {
      "image/png": "[encoded data removed]",
      "text/plain": [
       "<Figure size 576x360 with 1 Axes>"
      ]
     },
     "metadata": {
      "needs_background": "light"
     },
     "output_type": "display_data"
    }
   ],
   "source": [
    "employee_ids = df['emplid_sec'].unique()\n",
    "\n",
    "start_date = []\n",
    "end_date = []\n",
    "\n",
    "#Condense multiple rows of record for each employee into one and create a dataframe (only looking at start and end date)\n",
    "for ID in employee_ids:\n",
    "    employee = df[df['emplid_sec'] == ID].copy()\n",
    "    employee.sort_values(by=['end_date'], inplace=True)\n",
    "    start_date.append(employee.iloc[0]['start_date'])\n",
    "    #If the employee is currently working, use the temporary end date\n",
    "    if(pd.isnull(employee.iloc[-1]['end_date'])):\n",
    "        end_date.append(temp_end_date)\n",
    "    else:\n",
    "        end_date.append(employee.iloc[-1]['end_date'])\n",
    "    \n",
    "rr_df = pd.DataFrame({'start_date': start_date,\n",
    "                      'end_date': end_date})\n",
    "\n",
    "##################################\n",
    "\n",
    "rr = []\n",
    "\n",
    "for year in years:\n",
    "    #Employees working as of beginning of year\n",
    "    starting_employees = rr_df[(rr_df['start_date'] <= year) & (rr_df['end_date'] >= year)]\n",
    "    num_se = starting_employees.shape[0]\n",
    "    #Employees left at the end of year\n",
    "    newYear = year + DateOffset(years=1)\n",
    "    ending_employees = starting_employees[starting_employees['end_date'] >= newYear]\n",
    "    num_ee = ending_employees.shape[0]\n",
    "    #Calculate retention rate\n",
    "    if(num_ee == 0):\n",
    "        rr.append(100)\n",
    "    else:\n",
    "        rr.append(num_ee / num_se * 100)\n",
    "        \n",
    "plt.figure(figsize=(8,5))\n",
    "plt.plot(years, rr)\n",
    "plt.title('Yearly Retention Rate From 2000')\n",
    "plt.xlabel('Year')\n",
    "plt.ylabel('Retention Rate');"
   ]
  },
  {
   "cell_type": "markdown",
   "id": "3ef8bcc4",
   "metadata": {},
   "source": [
    "The retention rate has been declining since around 2010."
   ]
  },
  {
   "cell_type": "markdown",
   "id": "ccd121a3",
   "metadata": {},
   "source": [
    "# Duration Analysis"
   ]
  },
  {
   "cell_type": "code",
   "execution_count": 23,
   "id": "c9f9b88d",
   "metadata": {},
   "outputs": [
    {
     "data": {
      "image/png": "[encoded data removed]",
      "text/plain": [
       "<Figure size 576x360 with 1 Axes>"
      ]
     },
     "metadata": {
      "needs_background": "light"
     },
     "output_type": "display_data"
    }
   ],
   "source": [
    "#Plot the frequency of the duration of employement between the two groups\n",
    "ax = curr_empl_df['tenure_group'].value_counts().plot.bar(alpha=0.2);\n",
    "past_empl_df['tenure_group'].value_counts().plot.bar(ax=ax, alpha=0.2, color='orange', figsize=(8,5));\n",
    "plt.title('Tenure Group of Current vs. Past Employees')\n",
    "plt.xlabel('Tenure Groups')\n",
    "plt.ylabel('Number of Employees')\n",
    "plt.legend(['Current', 'Past']);"
   ]
  },
  {
   "cell_type": "markdown",
   "id": "73022d0b",
   "metadata": {},
   "source": [
    "The majority of both current and past employees worked over 5 years."
   ]
  },
  {
   "cell_type": "code",
   "execution_count": 24,
   "id": "3c2c5905",
   "metadata": {},
   "outputs": [],
   "source": [
    "#Past employees who worked less than 5 years\n",
    "past_empl_under_5_df = past_empl_df[past_empl_df['tenure_group'] != 'over_5'].copy()"
   ]
  },
  {
   "cell_type": "code",
   "execution_count": 25,
   "id": "e8e84b54",
   "metadata": {},
   "outputs": [],
   "source": [
    "#This chart will only be intelligible for columns with small amount of unique values\n",
    "#Compares the value counts between past employees who worked under 5 years and all employees\n",
    "#The percentage for each bar represents the proportion of past to all employees for each unique value\n",
    "#  col: column name to analyze (number of unique values in the col must be the same for both dataframes)\n",
    "def bar_chart_compared_tenure(col):\n",
    "    print('Proportion of \\'Past\\' to \\'All\\': ', str('{:.2f}'.format(round((past_empl_under_5_df.shape[0]/all_empl_df.shape[0])*100, 2)))+'%')\n",
    "    pvc = past_empl_under_5_df[col].value_counts().sort_index()\n",
    "    avc = all_empl_df[col].value_counts().sort_index()\n",
    "    ax = pd.DataFrame({'Past Employees (under 5 years)': pvc.values,\n",
    "                       'All Employees': avc.values}, index=pvc.index).plot.bar(figsize=(len(pvc)*1.5,5), width = 0.5, stacked=True);\n",
    "    percentages = [p/a for p,a in zip(pvc.values, avc.values)]\n",
    "    for i in range(len(pvc)):\n",
    "        ax.text(ax.patches[i].get_x()+.01, ax.patches[i].get_height(), str('{:.2f}'.format(round(percentages[i]*100, 2)))+'%', fontsize=11)"
   ]
  },
  {
   "cell_type": "code",
   "execution_count": 26,
   "id": "380767f8",
   "metadata": {},
   "outputs": [
    {
     "name": "stdout",
     "output_type": "stream",
     "text": [
      "Proportion of 'Past' to 'All':  36.07%\n"
     ]
    },
    {
     "data": {
      "image/png": "[encoded data removed]",
      "text/plain": [
       "<Figure size 756x360 with 1 Axes>"
      ]
     },
     "metadata": {
      "needs_background": "light"
     },
     "output_type": "display_data"
    }
   ],
   "source": [
    "bar_chart_compared_tenure('division')\n",
    "plt.title('Division');"
   ]
  },
  {
   "cell_type": "markdown",
   "id": "fb8ca38e",
   "metadata": {},
   "source": [
    "Childern Services has more past employees who worked less than 5 years than other divisions."
   ]
  },
  {
   "cell_type": "code",
   "execution_count": 27,
   "id": "1c78b0aa",
   "metadata": {},
   "outputs": [
    {
     "name": "stdout",
     "output_type": "stream",
     "text": [
      "Proportion of 'Past' to 'All':  36.07%\n"
     ]
    },
    {
     "data": {
      "image/png": "[encoded data removed]",
      "text/plain": [
       "<Figure size 864x360 with 1 Axes>"
      ]
     },
     "metadata": {
      "needs_background": "light"
     },
     "output_type": "display_data"
    }
   ],
   "source": [
    "bar_chart_compared_tenure('ethnicity')\n",
    "plt.title('Ethnicity');"
   ]
  },
  {
   "cell_type": "markdown",
   "id": "d2cc3928",
   "metadata": {},
   "source": [
    "Looking at ethnicity, more past employees who worked less than 5 years were `black`, followed by `asian` and `white`."
   ]
  },
  {
   "cell_type": "code",
   "execution_count": 28,
   "id": "d613fb84",
   "metadata": {},
   "outputs": [
    {
     "name": "stdout",
     "output_type": "stream",
     "text": [
      "Proportion of 'Past' to 'All':  36.07%\n"
     ]
    },
    {
     "data": {
      "image/png": "[encoded data removed]",
      "text/plain": [
       "<Figure size 324x360 with 1 Axes>"
      ]
     },
     "metadata": {
      "needs_background": "light"
     },
     "output_type": "display_data"
    }
   ],
   "source": [
    "bar_chart_compared_tenure('sex')\n",
    "plt.title('Sex');"
   ]
  },
  {
   "cell_type": "markdown",
   "id": "667766e9",
   "metadata": {},
   "source": [
    "Looking at sex, more past employees who worked less than 5 years were `male`."
   ]
  },
  {
   "cell_type": "code",
   "execution_count": 29,
   "id": "bd30b7cc",
   "metadata": {},
   "outputs": [
    {
     "name": "stdout",
     "output_type": "stream",
     "text": [
      "Proportion of 'Past' to 'All':  36.07%\n"
     ]
    },
    {
     "data": {
      "image/png": "[encoded data removed]",
      "text/plain": [
       "<Figure size 864x360 with 1 Axes>"
      ]
     },
     "metadata": {
      "needs_background": "light"
     },
     "output_type": "display_data"
    }
   ],
   "source": [
    "bar_chart_compared_tenure('end_age_group')\n",
    "plt.title('Ending Age Group');"
   ]
  },
  {
   "cell_type": "markdown",
   "id": "34632d21",
   "metadata": {},
   "source": [
    "Looking at the age when the employment is terminated, employees who worked less than 5 years tends to be younger. However, this is misleading because those who worked more than 5 years are moved into higher age group so there tends to be less older employees who worked less than 5 years."
   ]
  },
  {
   "cell_type": "code",
   "execution_count": 30,
   "id": "ef53faa8",
   "metadata": {},
   "outputs": [
    {
     "name": "stdout",
     "output_type": "stream",
     "text": [
      "Proportion of 'Past' to 'All':  36.07%\n"
     ]
    },
    {
     "data": {
      "image/png": "[encoded data removed]",
      "text/plain": [
       "<Figure size 864x360 with 1 Axes>"
      ]
     },
     "metadata": {
      "needs_background": "light"
     },
     "output_type": "display_data"
    }
   ],
   "source": [
    "bar_chart_compared_tenure('start_age_group')\n",
    "plt.title('Starting Age Group');"
   ]
  },
  {
   "cell_type": "markdown",
   "id": "56498195",
   "metadata": {},
   "source": [
    "If we look at the age at when they were hired, we can see less of a corrleation. Although, groups on the opposite ends has a higher percentage compared to the groups in the middle."
   ]
  },
  {
   "cell_type": "code",
   "execution_count": 31,
   "id": "a799ed68",
   "metadata": {},
   "outputs": [
    {
     "name": "stdout",
     "output_type": "stream",
     "text": [
      "Proportion of 'Past' to 'All':  36.07%\n"
     ]
    },
    {
     "data": {
      "image/png": "[encoded data removed]",
      "text/plain": [
       "<Figure size 432x360 with 1 Axes>"
      ]
     },
     "metadata": {
      "needs_background": "light"
     },
     "output_type": "display_data"
    }
   ],
   "source": [
    "bar_chart_compared_tenure('classification')\n",
    "plt.title('Classification');"
   ]
  },
  {
   "cell_type": "markdown",
   "id": "5a4e2b39",
   "metadata": {},
   "source": [
    "Looking at classification, `Staff` had more employees who worked less than 5 years compared to others."
   ]
  },
  {
   "cell_type": "code",
   "execution_count": 32,
   "id": "a686cbea",
   "metadata": {},
   "outputs": [
    {
     "data": {
      "image/png": "[encoded data removed]",
      "text/plain": [
       "<Figure size 576x360 with 1 Axes>"
      ]
     },
     "metadata": {
      "needs_background": "light"
     },
     "output_type": "display_data"
    }
   ],
   "source": [
    "ax = past_empl_under_5_df['comprate'].plot.hist(alpha=0.5, bins=24);\n",
    "all_empl_df['comprate'].plot.hist(ax=ax, alpha=0.2, figsize=(8,5), bins=24);\n",
    "plt.title('Comprate of Past vs. All Employees')\n",
    "plt.xlabel('Comprate')\n",
    "plt.ylabel('Number of Employees')\n",
    "plt.axis([0, 80, 0, 3000])\n",
    "plt.legend(['Past Employees(under 5 years)', 'All Employees']);"
   ]
  },
  {
   "cell_type": "markdown",
   "id": "2fa3750a",
   "metadata": {},
   "source": [
    "Looking at the comprate distribution, the distribution for past employees who worked less than 5 years is similar to the distribution for all employees with a small shift to the left. This suggests past employees who worked less than 5 years tend to have lower comprate. However, we are looking at the last comprate before the end of employement so it would make sense that those who are employed for longer gets more raises."
   ]
  }
 ],
 "metadata": {
  "kernelspec": {
   "display_name": "Python 3 (ipykernel)",
   "language": "python",
   "name": "python3"
  },
  "language_info": {
   "codemirror_mode": {
    "name": "ipython",
    "version": 3
   },
   "file_extension": ".py",
   "mimetype": "text/x-python",
   "name": "python",
   "nbconvert_exporter": "python",
   "pygments_lexer": "ipython3",
   "version": "3.8.10"
  }
 },
 "nbformat": 4,
 "nbformat_minor": 5
}
